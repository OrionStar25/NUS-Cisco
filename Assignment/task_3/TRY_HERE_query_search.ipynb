{
 "cells": [
  {
   "cell_type": "code",
   "execution_count": 1,
   "metadata": {},
   "outputs": [],
   "source": [
    "import sys\n",
    "sys.path.append('../')\n",
    "\n",
    "from langchain.vectorstores import FAISS\n",
    "from langchain.embeddings import HuggingFaceEmbeddings\n",
    "from utils.utils import *"
   ]
  },
  {
   "cell_type": "code",
   "execution_count": 2,
   "metadata": {},
   "outputs": [
    {
     "name": "stderr",
     "output_type": "stream",
     "text": [
      "/Users/niharika/opt/anaconda3/envs/cisco/lib/python3.9/site-packages/tqdm/auto.py:21: TqdmWarning: IProgress not found. Please update jupyter and ipywidgets. See https://ipywidgets.readthedocs.io/en/stable/user_install.html\n",
      "  from .autonotebook import tqdm as notebook_tqdm\n"
     ]
    }
   ],
   "source": [
    "embeddings = HuggingFaceEmbeddings()\n",
    "db = FAISS.load_local('faiss_index', embeddings=embeddings)"
   ]
  },
  {
   "cell_type": "code",
   "execution_count": 7,
   "metadata": {},
   "outputs": [
    {
     "name": "stdout",
     "output_type": "stream",
     "text": [
      "Document:  1\n",
      "Content: Network Switches\n",
      "\n",
      "Low-latency, high-density switches for general deployments and high-performance <em>computing</em> Explore Nexus 3000 Series Cisco MDS 9000 Series solutions Storage area IE5000 Series Cisco embedded series Ultracompact form factor designed for <em>integrating</em> into custom-built mission-critical devices Explore embedded series switches Rugged Series Switches All GE, modular, DIN-rail-mounted, with PoE and edge <em>compute</em> for scalable, secure industrial networking Explore Catalyst IE3x00 Series\n",
      "Metadata: {'source': 'products/computer_telephony_integration_option/47.txt'}\n",
      "Score: 0.5690211057662964\n",
      "\n",
      "\n",
      "\n",
      "Document:  2\n",
      "Content: Cisco MDS 9000 Series Multilayer Switches - Cisco\n",
      "\n",
      "Cisco MDS 9000 Series Multilayer Switches offer multiple layers of <em>network</em> and storage-<em>management</em> intelligence, to help lower total cost of ownership (TCO).\n",
      "\n",
      "Cisco Data Mobility <em>Manager</em> Cisco XRC Acceleration Cisco Prime Data <em>Center</em> <em>Network</em> <em>Manager</em> Data sheets More on storage <em>networking</em> Features and benefits multiple layers of <em>network</em> and storage-<em>management</em> intelligence. With them, you can build highly available, scalable storage <em>networks</em> with advanced security Partner Meet our Partners Become a Cisco Partner Products &amp; Services Storage <em>Networking</em> Cisco MDS 9000 Series Multilayer Switches Reduce costs and increase availability\n",
      "\n",
      "Cisco MDS 9000 Series Multilayer Switches\n",
      "Metadata: {'source': 'products/virtual_network_management_center/275.txt'}\n",
      "Score: 0.6602237820625305\n",
      "\n",
      "\n",
      "\n",
      "Document:  3\n",
      "Content: Cisco Catalyst 9600 Series Switches Data Sheet - Cisco\n",
      "\n",
      "switches Cisco IOS XE supports hot patching without reboot, which provides <em>fixes</em> for critical bugs and security vulnerabilities between regular maintenance Yes Yes YANG models Yes Yes ZTP&#x2F;PnP Yes Yes Smart Operations Bluetooth <em>Wireless</em> UI Yes Yes RFID tags Yes Yes Blue beacon Yes Yes Out-of-Band Management converged component. With one management system and one policy for wired and <em>wireless</em> networks, it offers an efficient way to provide more secure access. * ISE\n",
      "\n",
      "Cisco Catalyst 9600 Series Switches\n",
      "Metadata: {'source': 'products/wireless_fixed/678.txt'}\n",
      "Score: 0.6731491088867188\n",
      "\n",
      "\n",
      "\n",
      "Document:  4\n",
      "Content: Cisco Catalyst 1000 Series Switches Data Sheet - Cisco\n",
      "\n",
      "Cisco® Catalyst® 1000 Series Switches are fixed <em>managed</em> Gigabit Ethernet and Fast Ethernet enterprise-class Layer 2 switches designed for small businesses and branch offices. These are simple, flexible and secure switches ideal for out-of-the-wiring-closet and critical Internet of Things (IoT) deployments. Cisco® Catalyst® 1000 operate on Cisco IOS® Software and support simple device <em>management</em> and network <em>management</em> via a Command-Line Interface (CLI) as well as an on-box web UI. These switches deliver enhanced network security, network reliability, and operational efficiency for small organizations.\n",
      "Metadata: {'source': 'products/automated_fault_management/452.txt'}\n",
      "Score: 0.6740229725837708\n",
      "\n",
      "\n",
      "\n",
      "Document:  5\n",
      "Content: Network Switch Competitive Comparison Chart\n",
      "\n",
      "Explore the competitive comparison chart of Cisco network switches highlighting innovations that offer more capabilities for your <em>wired</em> and <em>wireless</em> networks.\n",
      "\n",
      "foundation for switching, <em>wireless,</em> and routing across Cisco Catalyst 9000 with Cisco IOS XE Total <em>system</em> visibility and <em>control</em> Not Available Separate campus switching, <em>wireless,</em> and routing OSS Not Available Separate campus switching, <em>wireless,</em> and routing OSS Not Available Separate campus switching, <em>wireless,</em> and Headquarters Cisco <em>Systems,</em> Inc. San Jose, CA Asia Pacific Headquarters Cisco <em>Systems</em> (USA) Pte. Ltd. Singapore Europe Headquarters Cisco <em>Systems</em> International\n",
      "Metadata: {'source': 'products/wireless_control_system_navigator/38.txt'}\n",
      "Score: 0.6741535067558289\n",
      "\n",
      "\n",
      "\n",
      "Document:  6\n",
      "Content: Cisco Catalyst 1300 Series Switches Data Sheet - Cisco\n",
      "\n",
      "The Cisco Catalyst™ 1300 Series Switches are affordable, simple-to-use switches designed and built for small and medium-sized businesses. <em>Managed</em> through the Cisco® Business Dashboard and Cisco Business mobile app, the switch portfolio provides a simple and reliable experience.\n",
      "\n",
      "challenges in deploying and <em>managing</em> business networks while <em>automating</em> the deployment, monitoring, and lifecycle <em>management</em> of the network. The 1300 Series Simple Network <em>Management</em> Protocol (SNMP) allows you to set up and <em>manage</em> your switches and other Cisco devices remotely from a network <em>management</em> station, improving the following benefits. Ease of <em>management</em> and deployment The 1300 Series switches are designed to be easy to use and <em>manage</em> by commercial customers or the\n",
      "\n",
      "Cisco Catalyst 1300 Series Switches\n",
      "Metadata: {'source': 'products/automated_fault_management/408.txt'}\n",
      "Score: 0.675341784954071\n",
      "\n",
      "\n",
      "\n",
      "Document:  7\n",
      "Content: Cisco Switch Selector\n",
      "\n",
      "Cisco\n",
      "\n",
      "Certified Remanufactured Equipment for <em>Networking</em> Upgrade at deeply discounted prices to help ensure secure <em>network</em> transformation. See offer Quickly identify Multilayer <em>Director</em> Fixed fabric switch 2- to 32-Gbps autosensing FC port types 48-Tbps Fibre Channel switching MDS NS-OX MDS 9710 Multilayer <em>Director</em> Modular options designed to meet the diverse needs of large enterprise <em>networks</em>. MDS 9718 Multilayer <em>Director</em> Modular storage 10&#x2F;40 G FCoE 2 to 32Gbps autosensing FC\n",
      "\n",
      "Switches\n",
      "Metadata: {'source': 'products/network_route_director/979.txt'}\n",
      "Score: 0.6776652336120605\n",
      "\n",
      "\n",
      "\n",
      "Document:  8\n",
      "Content: Cisco Catalyst 1000 Series Switches Data Sheet - Cisco\n",
      "\n",
      "Cisco® Catalyst® 1000 Series Switches are fixed managed Gigabit Ethernet and Fast Ethernet enterprise-class Layer 2 switches designed for small businesses and branch offices. These are simple, flexible and secure switches ideal for out-of-the-wiring-closet and critical Internet of Things (IoT) deployments. Cisco® Catalyst® 1000 operate on Cisco IOS® Software and support simple device management and <em>network</em> management via a Command-Line Interface (CLI) as well as an on-box web UI. These switches deliver enhanced <em>network</em> security, <em>network</em> reliability, and operational efficiency for small organizations.\n",
      "Metadata: {'source': 'products/additional_storage_networking/551.txt'}\n",
      "Score: 0.684241533279419\n",
      "\n",
      "\n",
      "\n",
      "Document:  9\n",
      "Content: Cisco MDS 9000 Series Multilayer Switches - Cisco\n",
      "\n",
      "Cisco MDS 9000 Series Multilayer Switches offer multiple layers of <em>network</em> and storage-management intelligence, to help lower total cost of ownership (TCO).\n",
      "\n",
      "for MDS 9000 <em>Services</em>-Oriented SANs Cisco I&#x2F;O Accelerator Cisco Data Mobility Manager Cisco XRC Acceleration Cisco <em>Prime</em> Data Center <em>Network</em> Manager Data Partner Meet our Partners Become a Cisco Partner Products &amp; <em>Services</em> Storage <em>Networking</em> Cisco MDS 9000 Series Multilayer Switches Reduce costs and increase multiple layers of <em>network</em> and storage-management intelligence. With them, you can build highly available, scalable storage <em>networks</em> with advanced security\n",
      "\n",
      "Cisco MDS 9000 Series Multilayer Switches\n",
      "Metadata: {'source': 'products/prime_network_services_controller/410.txt'}\n",
      "Score: 0.6861871480941772\n",
      "\n",
      "\n",
      "\n",
      "Document:  10\n",
      "Content: Cisco Catalyst 1000 Series Switches Data Sheet - Cisco\n",
      "\n",
      "Cisco® Catalyst® 1000 Series Switches are fixed managed Gigabit Ethernet and Fast Ethernet enterprise-class Layer 2 switches designed for small businesses and branch offices. These are simple, flexible and secure switches ideal for out-of-the-<em>wiring</em>-closet and critical Internet of Things (IoT) deployments. Cisco® Catalyst® 1000 operate on Cisco IOS® Software and support simple device management and network management via a Command-Line Interface (CLI) as well as an on-box web UI. These switches deliver enhanced network security, network reliability, and operational efficiency for small organizations.\n",
      "Metadata: {'source': 'products/wireless_control_system_navigator/765.txt'}\n",
      "Score: 0.6923155188560486\n",
      "\n",
      "\n",
      "\n"
     ]
    }
   ],
   "source": [
    "query = \"What type of Cisco Switches are available?\"\n",
    "K = 10\n",
    "\n",
    "results_with_scores = db.similarity_search_with_score(query, k=K)\n",
    "\n",
    "for i, (doc, score) in enumerate(results_with_scores):\n",
    "    print(\"Document: \", i+1)\n",
    "    print(f\"Content: {doc.page_content}\\nMetadata: {doc.metadata}\\nScore: {score}\")\n",
    "    print('\\n\\n')"
   ]
  },
  {
   "cell_type": "code",
   "execution_count": null,
   "metadata": {},
   "outputs": [],
   "source": []
  }
 ],
 "metadata": {
  "kernelspec": {
   "display_name": "cisco",
   "language": "python",
   "name": "python3"
  },
  "language_info": {
   "codemirror_mode": {
    "name": "ipython",
    "version": 3
   },
   "file_extension": ".py",
   "mimetype": "text/x-python",
   "name": "python",
   "nbconvert_exporter": "python",
   "pygments_lexer": "ipython3",
   "version": "3.9.18"
  }
 },
 "nbformat": 4,
 "nbformat_minor": 2
}
