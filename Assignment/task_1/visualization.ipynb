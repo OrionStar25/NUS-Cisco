{
 "cells": [
  {
   "cell_type": "code",
   "execution_count": 1,
   "metadata": {},
   "outputs": [
    {
     "data": {
      "text/plain": [
       "'0.3.2'"
      ]
     },
     "execution_count": 1,
     "metadata": {},
     "output_type": "execute_result"
    }
   ],
   "source": [
    "import pandas as pd\n",
    "import pyvis\n",
    "import json\n",
    "import sys\n",
    "sys.path.append('../')\n",
    "\n",
    "from utils.utils import *\n",
    "from pyvis.network import Network\n",
    "pyvis.__version__"
   ]
  },
  {
   "cell_type": "code",
   "execution_count": 2,
   "metadata": {},
   "outputs": [],
   "source": [
    "f = open('categories_products.json')\n",
    "data = json.load(f)\n",
    "\n",
    "edges = create_edge_list(data)\n",
    "convert_to_csv(edges, 'edges_list.csv', headers=['source', 'target'])"
   ]
  },
  {
   "cell_type": "code",
   "execution_count": 3,
   "metadata": {},
   "outputs": [
    {
     "data": {
      "text/html": [
       "<div>\n",
       "<style scoped>\n",
       "    .dataframe tbody tr th:only-of-type {\n",
       "        vertical-align: middle;\n",
       "    }\n",
       "\n",
       "    .dataframe tbody tr th {\n",
       "        vertical-align: top;\n",
       "    }\n",
       "\n",
       "    .dataframe thead th {\n",
       "        text-align: right;\n",
       "    }\n",
       "</style>\n",
       "<table border=\"1\" class=\"dataframe\">\n",
       "  <thead>\n",
       "    <tr style=\"text-align: right;\">\n",
       "      <th></th>\n",
       "      <th>source</th>\n",
       "      <th>target</th>\n",
       "    </tr>\n",
       "  </thead>\n",
       "  <tbody>\n",
       "    <tr>\n",
       "      <th>0</th>\n",
       "      <td>Accessories (Interfaces, Modules, Cards)</td>\n",
       "      <td>Access Point Modules</td>\n",
       "    </tr>\n",
       "    <tr>\n",
       "      <th>1</th>\n",
       "      <td>Accessories (Interfaces, Modules, Cards)</td>\n",
       "      <td>Broadband Processing Engines</td>\n",
       "    </tr>\n",
       "    <tr>\n",
       "      <th>2</th>\n",
       "      <td>Accessories (Interfaces, Modules, Cards)</td>\n",
       "      <td>Connected Grid Modules</td>\n",
       "    </tr>\n",
       "    <tr>\n",
       "      <th>3</th>\n",
       "      <td>Accessories (Interfaces, Modules, Cards)</td>\n",
       "      <td>CWDM GBIC/SFP</td>\n",
       "    </tr>\n",
       "    <tr>\n",
       "      <th>4</th>\n",
       "      <td>Accessories (Interfaces, Modules, Cards)</td>\n",
       "      <td>Ethernet Switching Network Modules</td>\n",
       "    </tr>\n",
       "    <tr>\n",
       "      <th>5</th>\n",
       "      <td>Accessories (Interfaces, Modules, Cards)</td>\n",
       "      <td>GBICs</td>\n",
       "    </tr>\n",
       "    <tr>\n",
       "      <th>6</th>\n",
       "      <td>Accessories (Interfaces, Modules, Cards)</td>\n",
       "      <td>High Density Voice/Fax Network Modules</td>\n",
       "    </tr>\n",
       "    <tr>\n",
       "      <th>7</th>\n",
       "      <td>Accessories (Interfaces, Modules, Cards)</td>\n",
       "      <td>High-Speed WAN Interface Cards</td>\n",
       "    </tr>\n",
       "    <tr>\n",
       "      <th>8</th>\n",
       "      <td>Accessories (Interfaces, Modules, Cards)</td>\n",
       "      <td>Integrated Services Router (ISR) Modules</td>\n",
       "    </tr>\n",
       "    <tr>\n",
       "      <th>9</th>\n",
       "      <td>Accessories (Interfaces, Modules, Cards)</td>\n",
       "      <td>Interface Cards</td>\n",
       "    </tr>\n",
       "  </tbody>\n",
       "</table>\n",
       "</div>"
      ],
      "text/plain": [
       "                                     source  \\\n",
       "0  Accessories (Interfaces, Modules, Cards)   \n",
       "1  Accessories (Interfaces, Modules, Cards)   \n",
       "2  Accessories (Interfaces, Modules, Cards)   \n",
       "3  Accessories (Interfaces, Modules, Cards)   \n",
       "4  Accessories (Interfaces, Modules, Cards)   \n",
       "5  Accessories (Interfaces, Modules, Cards)   \n",
       "6  Accessories (Interfaces, Modules, Cards)   \n",
       "7  Accessories (Interfaces, Modules, Cards)   \n",
       "8  Accessories (Interfaces, Modules, Cards)   \n",
       "9  Accessories (Interfaces, Modules, Cards)   \n",
       "\n",
       "                                     target  \n",
       "0                      Access Point Modules  \n",
       "1              Broadband Processing Engines  \n",
       "2                    Connected Grid Modules  \n",
       "3                             CWDM GBIC/SFP  \n",
       "4        Ethernet Switching Network Modules  \n",
       "5                                     GBICs  \n",
       "6    High Density Voice/Fax Network Modules  \n",
       "7            High-Speed WAN Interface Cards  \n",
       "8  Integrated Services Router (ISR) Modules  \n",
       "9                           Interface Cards  "
      ]
     },
     "execution_count": 3,
     "metadata": {},
     "output_type": "execute_result"
    }
   ],
   "source": [
    "#Loading the data\n",
    "data = pd.read_csv(\"edges_list.csv\", sep=\",\", header=0)\n",
    "data.head(10)"
   ]
  },
  {
   "cell_type": "code",
   "execution_count": 4,
   "metadata": {},
   "outputs": [
    {
     "name": "stdout",
     "output_type": "stream",
     "text": [
      "graph.html\n"
     ]
    },
    {
     "data": {
      "text/html": [
       "\n",
       "        <iframe\n",
       "            width=\"100%\"\n",
       "            height=\"750px\"\n",
       "            src=\"graph.html\"\n",
       "            frameborder=\"0\"\n",
       "            allowfullscreen\n",
       "            \n",
       "        ></iframe>\n",
       "        "
      ],
      "text/plain": [
       "<IPython.lib.display.IFrame at 0x7fa308087610>"
      ]
     },
     "execution_count": 4,
     "metadata": {},
     "output_type": "execute_result"
    }
   ],
   "source": [
    "net = Network(notebook = True, cdn_resources = \"remote\",\n",
    "                bgcolor = \"#222222\",\n",
    "                font_color = \"white\",\n",
    "                height = \"750px\",\n",
    "                width = \"100%\",\n",
    ")\n",
    "nodes = list(set([*data.source, *data.target]))\n",
    "edges = data.values.tolist()\n",
    "net.add_nodes(nodes)\n",
    "net.add_edges(edges)\n",
    "net.show(\"graph.html\")"
   ]
  },
  {
   "cell_type": "markdown",
   "metadata": {},
   "source": [
    "## The above graph is scrollable, can be zoomed in/out to see individual categories with their names. \n",
    "\n",
    "### We see multiple relationships between categories, their products, and inter-categories."
   ]
  },
  {
   "cell_type": "code",
   "execution_count": null,
   "metadata": {},
   "outputs": [],
   "source": []
  }
 ],
 "metadata": {
  "kernelspec": {
   "display_name": "cisco",
   "language": "python",
   "name": "cisco"
  },
  "language_info": {
   "codemirror_mode": {
    "name": "ipython",
    "version": 3
   },
   "file_extension": ".py",
   "mimetype": "text/x-python",
   "name": "python",
   "nbconvert_exporter": "python",
   "pygments_lexer": "ipython3",
   "version": "3.9.18"
  }
 },
 "nbformat": 4,
 "nbformat_minor": 2
}
